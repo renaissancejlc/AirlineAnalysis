{
 "cells": [
  {
   "cell_type": "markdown",
   "source": [
    "# COGS 108 - Final Project Proposal"
   ],
   "metadata": {}
  },
  {
   "cell_type": "markdown",
   "source": [
    "# Names\n",
    "\n",
    "- Joanne Wu\n",
    "- Steven Christensen\n",
    "- Tanner Broese\n",
    "- Dillan DeMoss\n",
    "- Renaissance Carr"
   ],
   "metadata": {}
  },
  {
   "cell_type": "markdown",
   "source": [
    "# Research Question"
   ],
   "metadata": {}
  },
  {
   "cell_type": "markdown",
   "source": [
    "What is the relationship between the CDC's announcement of major Covid-19 strains and the stock patterns of U.S. airline companies?"
   ],
   "metadata": {}
  },
  {
   "cell_type": "markdown",
   "source": [
    "## Background and Prior Work"
   ],
   "metadata": {}
  },
  {
   "cell_type": "markdown",
   "source": [
    "One of our group members came across a Reddit post where a man was pictured flying on an airplane alone and he postulated that this lucky scenario occurred because few people wanted to fly during the pandemic. This made us curious about how airlines are holding up in the pandemic. We found many articles that wrote about airline stocks dropping in the wake of Covid. We want to analyze stock data ourselves to see if they support these claims. We wanted to specifically select our data during the official announcements of the different Coronavirus strains since they would likely be important food for thought for those who contribute in the stock market.\n",
    "\n",
    "References (include links):\n",
    "- 1) https://www.cnbc.com/2021/12/08/why-airline-stocks-even-with-omicron-may-finally-be-good-market-bets.html\n",
    "- 2) https://tnmt.com/infographics/airline-stock-performance-during-pandemics/"
   ],
   "metadata": {}
  },
  {
   "cell_type": "markdown",
   "source": [
    "# Hypothesis\n"
   ],
   "metadata": {}
  },
  {
   "cell_type": "markdown",
   "source": [
    "*State and defend your hypotheses here.*"
   ],
   "metadata": {}
  },
  {
   "cell_type": "markdown",
   "source": [
    "Our hypothesis is that the U.S. airline stocks will tank significantly following each major strain announcement. We believe this due to the U.S.'s general attitude toward Coronavirus which encourages social distancing so fewer people will want to be exposed on a plane. We think that the fear each announcement ignites in the general public poses a reasonable assumption that there would be lesser plane patronage, as well as many entertainment places being forced closed so people won't be as inclined to travel. Thus, we believe investors of U.S. airline company stocks would likely try to sell them after the announcements, causing the stocks to plummet."
   ],
   "metadata": {}
  },
  {
   "cell_type": "markdown",
   "source": [
    "*Explain what the ideal dataset you would want to answer this question. (This should include: What variables? How many observations? Who/what/how would these data be collected? How would these data be stored/organized?)*\n",
    "\n",
    "The ideal dataset would be the stock patterns from a large sample of U.S. airline companies at time intervals of a month before and a month after each CDC announcement of the big 3 Covid-19 strains (original, Delta, Omnicron). All necessary data for the airline stocks readily exists on Google as it is public information. We can also grab the dates of the CDC major Covid-19 strain  announcements on the CDC's page. The stock data would need to be wrangled to only include the time periods we care about. \n",
    "\n",
    "    "
   ],
   "metadata": {}
  },
  {
   "cell_type": "markdown",
   "source": [
    "# Ethics & Privacy"
   ],
   "metadata": {}
  },
  {
   "cell_type": "markdown",
   "source": [
    "We will only use publicly available data of stocks and our dataset happens to only involve the market itself so it will not infringe on any person's privacy. "
   ],
   "metadata": {}
  },
  {
   "cell_type": "markdown",
   "source": [
    "# Team Expectations "
   ],
   "metadata": {}
  },
  {
   "cell_type": "markdown",
   "source": [
    "Everyone will contribute equally by coming together at least once a week.\n",
    "We will practice psychological safety so that any issues can be solved as a group. \n",
    "We will do a thorough analysis of the data.\n",
    "We will do our best to consider confounding variables and note how they might affect our analyses.\n"
   ],
   "metadata": {}
  },
  {
   "cell_type": "markdown",
   "source": [
    "# Project Timeline Proposal"
   ],
   "metadata": {}
  },
  {
   "cell_type": "markdown",
   "source": [
    "| Meeting Date  | Meeting Time| Completed Before Meeting  | Discuss at Meeting |\n",
    "|---|---|---|---|\n",
    "| 1/20  |  1 PM | Read & Think about COGS 108 expectations; brainstorm topics/questions  | Determine best form of communication; Discuss and decide on final project topic; discuss hypothesis; begin background research | \n",
    "| 1/26  |  10 AM |  Do background research on topic | Discuss ideal dataset(s) and ethics; draft project proposal | \n",
    "| 2/1  | 10 AM  | Edit, finalize, and submit proposal; Search for datasets  | Discuss Wrangling and possible analytical approaches; Assign group members to lead each specific part   |\n",
    "| 2/14  | 6 PM  | Import & Wrangle Data (all); EDA (all) | Review/Edit wrangling/EDA; Discuss Analysis Plan   |\n",
    "| 2/23  | 12 PM  | Finalize wrangling/EDA; Begin Analysis (all) | Discuss/edit Analysis; Complete project check-in |\n",
    "| 3/13  | 12 PM  | Complete analysis; Draft results/conclusion/discussion (all)| Discuss/edit full project |\n",
    "| 3/19  | Before 11:59 PM  | NA | Turn in Final Project & Group Project Surveys |"
   ],
   "metadata": {}
  }
 ],
 "metadata": {
  "kernelspec": {
   "display_name": "Python 3",
   "language": "python",
   "name": "python3"
  },
  "language_info": {
   "codemirror_mode": {
    "name": "ipython",
    "version": 3
   },
   "file_extension": ".py",
   "mimetype": "text/x-python",
   "name": "python",
   "nbconvert_exporter": "python",
   "pygments_lexer": "ipython3",
   "version": "3.7.9"
  }
 },
 "nbformat": 4,
 "nbformat_minor": 2
}