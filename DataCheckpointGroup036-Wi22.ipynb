{
 "cells": [
  {
   "cell_type": "markdown",
   "source": [
    "# COGS 108 - Data Checkpoint"
   ],
   "metadata": {}
  },
  {
   "cell_type": "markdown",
   "source": [
    "# Names\n",
    "\n",
    "- Dillan DeMoss\n",
    "- Renaissance Carr\n",
    "- Steven Christensen\n",
    "- Tanner Broese\n",
    "- Joanne Wu"
   ],
   "metadata": {}
  },
  {
   "cell_type": "markdown",
   "source": [
    "<a id='research_question'></a>\n",
    "# Research Question"
   ],
   "metadata": {}
  },
  {
   "cell_type": "markdown",
   "source": [
    "Was there a greater effect on major U.S. airlines' stocks following the announcement of Delta as a variant of concern (VOC) by the World Health Organization versus the announcement of Omicron as a VOC?"
   ],
   "metadata": {}
  },
  {
   "cell_type": "markdown",
   "source": [
    "# Dataset(s)"
   ],
   "metadata": {}
  },
  {
   "cell_type": "markdown",
   "source": [
    "\n",
    "----------------------------------------\n",
    "- Dataset Name: United Airlines Holdings, Inc. (UAL)\n",
    "- Link to the dataset: https://finance.yahoo.com/quote/UAL/history/\n",
    "- Number of observations: 142\n",
    "- Description: We are observing the opening price of the United Airlines Holdings, Inc. stock market opening value starting 35 stock days before the announcement of the Delta variant by the World Health Organization and ending 35 stock days after the same announcement date. Similarly we are analyzing the same number of fates surrounding the announcement of the Omicron variant.\n",
    "\n",
    "----------------------------------------\n",
    "- Dataset Name: Southwest Airlines Co. (LUV)\n",
    "- Link to the dataset:https: https://finance.yahoo.com/quote/LUV/history?p=LUV\n",
    "- Number of observations: 142\n",
    "- Description: We are observing the opening price of the Southwest Airlines Co. stock market opening value starting 35 stock days before the announcement of the Delta variant by the World Health Organization and ending 35 stock days after the same announcement date. Similarly we are analyzing the same number of fates surrounding the announcement of the Omicron variant.\n",
    "\n",
    "----------------------------------------\n",
    "The above datasets represent Two of the Seven total airlines we plan to analyze and compare. We plan to combine each of the Seven datasets into a single dataframe where each row represents a different date from our specified range and each colunm represents the opening values of the different airlines. Once we have the data for all Seven airlines we plan to analyze, we should arrive at a total of 994 unique observations"
   ],
   "metadata": {}
  },
  {
   "cell_type": "markdown",
   "source": [
    "# Setup"
   ],
   "metadata": {}
  },
  {
   "cell_type": "code",
   "execution_count": 1,
   "source": [
    "import pandas as pd \n",
    "import numpy as np "
   ],
   "outputs": [],
   "metadata": {}
  },
  {
   "cell_type": "markdown",
   "source": [
    "# Data Cleaning"
   ],
   "metadata": {}
  },
  {
   "cell_type": "markdown",
   "source": [
    "Describe your data cleaning steps here."
   ],
   "metadata": {}
  },
  {
   "cell_type": "markdown",
   "source": [
    "\n",
    "Question 1: How clean is the data?"
   ],
   "metadata": {}
  },
  {
   "cell_type": "markdown",
   "source": [
    "\n",
    "- The data is already in a neat tabular format with the information we are looking for down a single column. Observations are already organized by date (which is how we want differentiate them). Additionally, each cell that we will want to work with is already void of any units or spacing issues."
   ],
   "metadata": {}
  },
  {
   "cell_type": "markdown",
   "source": [
    "\n",
    "Question 2: What did you have to do to get the data into a usable format? (If you did nothing, how did you determine there was nothing to do?)"
   ],
   "metadata": {}
  },
  {
   "cell_type": "markdown",
   "source": [
    "\n",
    "- The data was available in the form of a csv file so all we had to do was download the csv from Yahoo's historical stock records and let pandas create a dataframe from it."
   ],
   "metadata": {}
  },
  {
   "cell_type": "markdown",
   "source": [
    "\n",
    "Question 3: What pre-processing steps that were required for your methods (for example, checking data distributions and performing any transformations that may be required)"
   ],
   "metadata": {}
  },
  {
   "cell_type": "markdown",
   "source": [
    "\n",
    "- We removed rows that represented dates outside our specified range. Also, we removed all columns that contained values other than the opening stock value, ie. closing value, high, low."
   ],
   "metadata": {}
  },
  {
   "cell_type": "code",
   "execution_count": 2,
   "source": [
    "dfUAL = pd.read_csv('UAL.csv')\n",
    "dfOmiUAL = dfUAL\n",
    "dfDeltaUAL = dfUAL\n",
    "dfLUV = pd.read_csv('LUV.csv')\n",
    "dfOmiLUV = dfLUV\n",
    "dfDeltaLUV = dfLUV"
   ],
   "outputs": [],
   "metadata": {}
  },
  {
   "cell_type": "code",
   "execution_count": null,
   "source": [
    "#Input Announcment Dates\n",
    "#UAL\n",
    "deltaAnncDateIndUAL = dfUAL[(dfUAL['Date'] == '2021-05-11')].index\n",
    "omiAnncDateIndUAL = dfUAL[(dfUAL['Date'] == '2021-11-26')].index\n",
    "#LUV\n",
    "deltaAnncDateIndLUV = dfLUV[(dfLUV['Date'] == '2021-05-11')].index\n",
    "omiAnncDateIndLUV = dfLUV[(dfLUV['Date'] == '2021-11-26')].index\n",
    "# obtain the starting index from 35 days before Delta announcement\n",
    "startDateDeltaIndUAL = deltaAnncDateIndUAL[0] -35\n",
    "startDateDeltaIndLUV = deltaAnncDateIndLUV[0] -35\n",
    "# obtain the ending index from 35 days after Delta announcement\n",
    "endDateDeltaIndUAL = deltaAnncDateIndUAL[0] + 35\n",
    "endDateDeltaIndLUV = deltaAnncDateIndLUV[0] + 35\n",
    "# obtain the starting index from 35 days before Omni announcement\n",
    "startDateOmiIndUAL = omiAnncDateIndUAL[0] - 35\n",
    "startDateOmiIndLUV = omiAnncDateIndLUV[0] - 35\n",
    "# obtain the ending index from 35 days after Omni announcement\n",
    "endDateOmiIndUAL = omiAnncDateIndUAL[0] + 35 \n",
    "endDateOmiIndLUV = omiAnncDateIndLUV[0] + 35\n",
    "# calculate the total number of rows needed to encapsulate those date for each variant\n",
    "numRowsToKeepDeltaUAL = endDateDeltaIndUAL - startDateDeltaIndUAL\n",
    "numRowsToKeepOmiUAL = endDateOmiIndUAL - startDateOmiIndUAL\n",
    "numRowsToKeepDeltaLUV = endDateDeltaIndLUV - startDateDeltaIndLUV\n",
    "numRowsToKeepOmiLUV = endDateOmiIndLUV - startDateOmiIndLUV"
   ],
   "outputs": [],
   "metadata": {}
  },
  {
   "cell_type": "code",
   "execution_count": null,
   "source": [
    "# Drop the unneeded rows for Delta\n",
    "dfDeltaUAL = dfDeltaUAL.drop(dfDeltaUAL.columns[2:], axis=1, inplace=False)\n",
    "dfDeltaUAL = dfDeltaUAL.drop(labels=range(0, startDateDeltaIndUAL), axis=0,␣\n",
    ",→inplace = False)\n",
    "dfDeltaUAL = dfDeltaUAL[:numRowsToKeepDeltaUAL +1 ]\n",
    "dfDeltaUAL = dfDeltaUAL.rename(columns={'Open': 'Delta Open'})\n",
    "# PRINT Delta/United Arlines Tidy Data\n",
    "dfDeltaUAL"
   ],
   "outputs": [],
   "metadata": {}
  },
  {
   "cell_type": "code",
   "execution_count": null,
   "source": [
    "#output from above cell\n",
    "'''Date Delta Open\n",
    "25 2021-03-22 59.750000\n",
    "26 2021-03-23 57.110001\n",
    "27 2021-03-24 55.660000\n",
    "28 2021-03-25 52.910000\n",
    "29 2021-03-26 57.090000\n",
    ".. … …\n",
    "91 2021-06-24 55.110001\n",
    "92 2021-06-25 54.520000\n",
    "93 2021-06-28 53.500000\n",
    "94 2021-06-29 52.660000\n",
    "95 2021-06-30 52.270000\n",
    "[71 rows x 2 columns]'''"
   ],
   "outputs": [],
   "metadata": {}
  },
  {
   "cell_type": "code",
   "execution_count": null,
   "source": [
    " # Drop the unneeded rows for Omi\n",
    "dfOmiUAL.drop(dfOmiUAL.columns[2:], axis=1, inplace=True)\n",
    "dfOmiUAL.drop(labels=range(0, startDateOmiIndUAL), axis=0, inplace = True)\n",
    "dfOmiUAL = dfOmiUAL[:numRowsToKeepOmiUAL + 1]\n",
    "dfOmiUAL = dfOmiUAL.rename(columns={'Open': 'UAL Open'})\n",
    "# PRINT Omicron/United Arlines Tidy Data\n",
    "dfOmiUAL"
   ],
   "outputs": [],
   "metadata": {}
  },
  {
   "cell_type": "code",
   "execution_count": null,
   "source": [
    "#output from cell above\n",
    "'''Date UAL Open\n",
    "164 2021-10-07 50.869999\n",
    "165 2021-10-08 49.500000\n",
    "166 2021-10-11 48.750000\n",
    "167 2021-10-12 49.090000\n",
    "168 2021-10-13 49.369999\n",
    ".. … …\n",
    "230 2022-01-11 46.410000\n",
    "231 2022-01-12 46.950001\n",
    "232 2022-01-13 47.209999\n",
    "233 2022-01-14 47.240002\n",
    "234 2022-01-18 45.919998\n",
    "[71 rows x 2 columns]'''"
   ],
   "outputs": [],
   "metadata": {}
  },
  {
   "cell_type": "code",
   "execution_count": null,
   "source": [
    "# Drop the unneeded rows for Delta\n",
    "dfDeltaLUV = dfDeltaLUV.drop(dfDeltaLUV.columns[2:], axis=1, inplace=False)\n",
    "dfDeltaLUV = dfDeltaLUV.drop(labels=range(0, startDateDeltaIndLUV), axis=0,␣\n",
    ",→inplace = False)\n",
    "dfDeltaLUV = dfDeltaLUV[:numRowsToKeepDeltaLUV +1 ]\n",
    "dfDeltaLUV = dfDeltaLUV.rename(columns={'Open': 'LUV Open'})\n",
    "# PRINT Delta/Southwest Arlines Tidy Data\n",
    "dfDeltaLUV"
   ],
   "outputs": [],
   "metadata": {}
  },
  {
   "cell_type": "code",
   "execution_count": null,
   "source": [
    "#output for cell above\n",
    "'''\n",
    "Date LUV Open\n",
    "25 2021-03-22 60.529999\n",
    "26 2021-03-23 59.000000\n",
    "27 2021-03-24 58.590000\n",
    "28 2021-03-25 56.610001\n",
    "29 2021-03-26 60.450001\n",
    ".. … …\n",
    "91 2021-06-24 55.529999\n",
    "92 2021-06-25 54.689999\n",
    "93 2021-06-28 54.250000\n",
    "94 2021-06-29 52.959999\n",
    "95 2021-06-30 53.099998\n",
    "[71 rows x 2 columns]\n",
    "'''"
   ],
   "outputs": [],
   "metadata": {}
  },
  {
   "cell_type": "code",
   "execution_count": null,
   "source": [
    " # Drop the unneeded rows for Omi\n",
    "dfOmiLUV.drop(dfOmiLUV.columns[2:], axis=1, inplace=True)\n",
    "dfOmiLUV.drop(labels=range(0, startDateOmiIndLUV), axis=0, inplace = True)\n",
    "dfOmiLUV = dfOmiLUV[:numRowsToKeepOmiLUV + 1]\n",
    "dfOmiLUV = dfOmiLUV.rename(columns={'Open': 'Luv Open'})\n",
    "# PRINT Omicron/Southwest Airlines Tidy Data\n",
    "dfOmiLUV"
   ],
   "outputs": [],
   "metadata": {}
  },
  {
   "cell_type": "code",
   "execution_count": null,
   "source": [
    "#output from cell above\n",
    "'''\n",
    "Date Luv Open\n",
    "164 2021-10-07 54.889999\n",
    "165 2021-10-08 54.290001\n",
    "166 2021-10-11 51.990002\n",
    "167 2021-10-12 51.730000\n",
    "168 2021-10-13 51.869999\n",
    ".. … …\n",
    "230 2022-01-11 45.349998\n",
    "231 2022-01-12 45.540001\n",
    "232 2022-01-13 45.320000\n",
    "233 2022-01-14 45.560001\n",
    "234 2022-01-18 45.500000\n",
    "[71 rows x 2 columns]\n",
    "'''"
   ],
   "outputs": [],
   "metadata": {}
  }
 ],
 "metadata": {
  "kernelspec": {
   "display_name": "Python 3",
   "language": "python",
   "name": "python3"
  },
  "language_info": {
   "codemirror_mode": {
    "name": "ipython",
    "version": 3
   },
   "file_extension": ".py",
   "mimetype": "text/x-python",
   "name": "python",
   "nbconvert_exporter": "python",
   "pygments_lexer": "ipython3",
   "version": "3.7.9"
  }
 },
 "nbformat": 4,
 "nbformat_minor": 2
}